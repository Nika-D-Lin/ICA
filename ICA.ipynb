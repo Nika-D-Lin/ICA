{
 "cells": [
  {
   "cell_type": "code",
   "execution_count": 10,
   "metadata": {},
   "outputs": [
    {
     "name": "stdout",
     "output_type": "stream",
     "text": [
      "Counter({4: 4, 3: 3, 2: 2, 1: 1})\n",
      "[(4, 4)]\n",
      "[(4, 4)]\n",
      "(4, 4)\n"
     ]
    }
   ],
   "source": [
    "#Counter most_common\n",
    "from collections import Counter\n",
    "list = [1,2,2,3,3,3,4,4,4,4]\n",
    "dict = Counter(list)\n",
    "print(dict)\n",
    "print(dict.most_common(1))\n",
    "print(dict.most_common(1))\n",
    "print(dict.most_common(1)[0])"
   ]
  },
  {
   "cell_type": "code",
   "execution_count": 22,
   "metadata": {},
   "outputs": [
    {
     "name": "stdout",
     "output_type": "stream",
     "text": [
      "Counter({1: 4, 2: 3, 3: 2, 4: 1})\n",
      "[(1, 4)]\n",
      "[(1, 4)]\n",
      "(1, 4)\n"
     ]
    }
   ],
   "source": [
    "from collections import Counter\n",
    "list = [4,3,3,2,2,2,1,1,1,1]\n",
    "dict = Counter(list)\n",
    "print(dict)\n",
    "print(dict.most_common(1))\n",
    "print(dict.most_common(1))\n",
    "print(dict.most_common(1)[0])"
   ]
  },
  {
   "cell_type": "code",
   "execution_count": 21,
   "metadata": {},
   "outputs": [
    {
     "name": "stdout",
     "output_type": "stream",
     "text": [
      "Counter({1223334444: 1})\n",
      "[(1223334444, 1)]\n",
      "[(1223334444, 1)]\n",
      "(1223334444, 1)\n"
     ]
    }
   ],
   "source": [
    "from collections import Counter\n",
    "list = [1223334444]\n",
    "dict = Counter(list)\n",
    "print(dict)\n",
    "print(dict.most_common(1))\n",
    "print(dict.most_common(1))\n",
    "print(dict.most_common(1)[0])"
   ]
  },
  {
   "cell_type": "code",
   "execution_count": 17,
   "metadata": {},
   "outputs": [
    {
     "name": "stdout",
     "output_type": "stream",
     "text": [
      "Counter({'4': 4, '3': 3, '2': 2, '1': 1})\n",
      "[('4', 4), ('3', 3), ('2', 2), ('1', 1)]\n"
     ]
    }
   ],
   "source": [
    "from collections import Counter\n",
    "str = ('1','2','2','3','3','3','4','4','4','4')\n",
    "dict = Counter(str)\n",
    "print(dict)\n",
    "print(dict.most_common())"
   ]
  },
  {
   "cell_type": "code",
   "execution_count": 19,
   "metadata": {},
   "outputs": [
    {
     "name": "stdout",
     "output_type": "stream",
     "text": [
      "Counter({'4': 4, '3': 3, '2': 2, '1': 1})\n",
      "[('4', 4), ('3', 3), ('2', 2), ('1', 1)]\n"
     ]
    }
   ],
   "source": [
    "from collections import Counter\n",
    "str = ('1223334444')\n",
    "dict = Counter(str)\n",
    "print(dict)\n",
    "print(dict.most_common())"
   ]
  },
  {
   "cell_type": "code",
   "execution_count": 20,
   "metadata": {},
   "outputs": [
    {
     "name": "stdout",
     "output_type": "stream",
     "text": [
      "Counter({'1': 1, '22': 1, '333': 1, '4444': 1})\n",
      "[('1', 1), ('22', 1), ('333', 1), ('4444', 1)]\n"
     ]
    }
   ],
   "source": [
    "from collections import Counter\n",
    "str = ('1','22','333','4444')\n",
    "dict = Counter(str)\n",
    "print(dict)\n",
    "print(dict.most_common())"
   ]
  },
  {
   "cell_type": "code",
   "execution_count": 2,
   "metadata": {},
   "outputs": [
    {
     "name": "stdout",
     "output_type": "stream",
     "text": [
      "Methionine\n",
      "Methionine\n"
     ]
    }
   ],
   "source": [
    "genetic_code = {\n",
    "    'AUG': 'Methionine', 'UUU': 'Phenylalanine', 'UUC': 'Phenylalanine',\n",
    "    'UUA': 'Leucine', 'UUG': 'Leucine', 'CUU': 'Leucine', 'CUC': 'Leucine',\n",
    "    'CUA': 'Leucine', 'CUG': 'Leucine', 'AUU': 'Isoleucine', 'AUC': 'Isoleucine',\n",
    "    'AUA': 'Isoleucine', 'GUU': 'Valine', 'GUC': 'Valine', 'GUA': 'Valine',\n",
    "    'GUG': 'Valine', 'UCU': 'Serine', 'UCC': 'Serine', 'UCA': 'Serine',\n",
    "    'UCG': 'Serine', 'CCU': 'Proline', 'CCC': 'Proline', 'CCA': 'Proline',\n",
    "    'CCG': 'Proline', 'ACU': 'Threonine', 'ACC': 'Threonine', 'ACA': 'Threonine',\n",
    "    'ACG': 'Threonine', 'GCU': 'Alanine', 'GCC': 'Alanine', 'GCA': 'Alanine',\n",
    "    'GCG': 'Alanine', 'UAU': 'Tyrosine', 'UAC': 'Tyrosine', 'CAU': 'Histidine',\n",
    "    'CAC': 'Histidine', 'CAA': 'Glutamine', 'CAG': 'Glutamine', 'AAU': 'Asparagine',\n",
    "    'AAC': 'Asparagine', 'AAA': 'Lysine', 'AAG': 'Lysine', 'GAU': 'Aspartic Acid',\n",
    "    'GAC': 'Aspartic Acid', 'GAA': 'Glutamic Acid', 'GAG': 'Glutamic Acid',\n",
    "    'UGU': 'Cysteine', 'UGC': 'Cysteine', 'UGG': 'Tryptophan', 'CGU': 'Arginine',\n",
    "    'CGC': 'Arginine', 'CGA': 'Arginine', 'CGG': 'Arginine', 'AGU': 'Serine',\n",
    "    'AGC': 'Serine', 'AGA': 'Arginine', 'AGG': 'Arginine', 'GGU': 'Glycine',\n",
    "    'GGC': 'Glycine', 'GGA': 'Glycine', 'GGG': 'Glycine', 'UAA': 'Stop',\n",
    "    'UAG': 'Stop', 'UGA': 'Stop'\n",
    "}\n",
    "trinucleotides = 'AUG'\n",
    "amino_acid = genetic_code.get(\"AUG\")\n",
    "amino_acid1 = genetic_code['AUG'] \n",
    "print(amino_acid)\n",
    "print(amino_acid1)"
   ]
  },
  {
   "cell_type": "code",
   "execution_count": null,
   "metadata": {},
   "outputs": [],
   "source": []
  }
 ],
 "metadata": {
  "kernelspec": {
   "display_name": "Python 3",
   "language": "python",
   "name": "python3"
  },
  "language_info": {
   "codemirror_mode": {
    "name": "ipython",
    "version": 3
   },
   "file_extension": ".py",
   "mimetype": "text/x-python",
   "name": "python",
   "nbconvert_exporter": "python",
   "pygments_lexer": "ipython3",
   "version": "3.13.2"
  }
 },
 "nbformat": 4,
 "nbformat_minor": 2
}
