{
 "cells": [
  {
   "cell_type": "code",
   "execution_count": 1,
   "metadata": {},
   "outputs": [
    {
     "name": "stdout",
     "output_type": "stream",
     "text": [
      "Counter({1: 4, 2: 3, 3: 2, 4: 1})\n",
      "[(1, 4), (2, 3), (3, 2), (4, 1)]\n",
      "[(1, 4)]\n",
      "(1, 4)\n",
      "1\n",
      "4\n"
     ]
    }
   ],
   "source": [
    "from collections import Counter\n",
    "list = [4,3,3,2,2,2,1,1,1,1]\n",
    "dict = Counter(list)\n",
    "print(dict)\n",
    "print(dict.most_common())\n",
    "print(dict.most_common(1))\n",
    "print(dict.most_common(1)[0])\n",
    "print(dict.most_common(1)[0][0])\n",
    "print(dict.most_common(1)[0][1])"
   ]
  },
  {
   "cell_type": "code",
   "execution_count": null,
   "metadata": {},
   "outputs": [
    {
     "name": "stdout",
     "output_type": "stream",
     "text": [
      "a,b\n"
     ]
    }
   ],
   "source": [
    "from collections import Counter\n",
    "list = [\"a\",\"a\",\"b\",\"b\",\"c\",\"d\"]\n",
    "dict = Counter(list)\n",
    "most_common = []\n",
    "#print(dict)\n",
    "#print(dict.most_common(1))\n",
    "#print(dict.most_common(1)[0])\n",
    "#print(dict.most_common(1)[0][1])\n",
    "for num in range(len(dict)):\n",
    "    if dict.most_common()[num][1] == dict.most_common(1)[0][1]:\n",
    "        most_common.append(dict.most_common()[num][0])\n",
    "print(','.join(most_common))"
   ]
  },
  {
   "cell_type": "code",
   "execution_count": 34,
   "metadata": {},
   "outputs": [
    {
     "name": "stdout",
     "output_type": "stream",
     "text": [
      "4\n",
      "b\n",
      "d\n",
      "b\n",
      "c\n",
      "d\n"
     ]
    }
   ],
   "source": [
    "from collections import Counter\n",
    "list = [\"a\",\"a\",\"b\",\"b\",\"c\",\"d\"]\n",
    "dict = Counter(list)\n",
    "#print(dict)\n",
    "print(len(dict))\n",
    "for num in (1,len(dict)-1):\n",
    "    print(dict.most_common()[num][0])\n",
    "print(dict.most_common()[1][0])\n",
    "print(dict.most_common()[2][0])\n",
    "print(dict.most_common()[3][0])\n",
    "#print(dict.most_common(4)[0][0])"
   ]
  },
  {
   "cell_type": "code",
   "execution_count": 21,
   "metadata": {},
   "outputs": [
    {
     "name": "stdout",
     "output_type": "stream",
     "text": [
      "Counter({1223334444: 1})\n",
      "[(1223334444, 1)]\n",
      "[(1223334444, 1)]\n",
      "(1223334444, 1)\n"
     ]
    }
   ],
   "source": [
    "from collections import Counter\n",
    "list = [1223334444]\n",
    "dict = Counter(list)\n",
    "print(dict)\n",
    "print(dict.most_common(1))\n",
    "print(dict.most_common(1))\n",
    "print(dict.most_common(1)[0])"
   ]
  },
  {
   "cell_type": "code",
   "execution_count": 17,
   "metadata": {},
   "outputs": [
    {
     "name": "stdout",
     "output_type": "stream",
     "text": [
      "Counter({'4': 4, '3': 3, '2': 2, '1': 1})\n",
      "[('4', 4), ('3', 3), ('2', 2), ('1', 1)]\n"
     ]
    }
   ],
   "source": [
    "from collections import Counter\n",
    "str = ('1','2','2','3','3','3','4','4','4','4')\n",
    "dict = Counter(str)\n",
    "print(dict)\n",
    "print(dict.most_common())"
   ]
  },
  {
   "cell_type": "code",
   "execution_count": 19,
   "metadata": {},
   "outputs": [
    {
     "name": "stdout",
     "output_type": "stream",
     "text": [
      "Counter({'4': 4, '3': 3, '2': 2, '1': 1})\n",
      "[('4', 4), ('3', 3), ('2', 2), ('1', 1)]\n"
     ]
    }
   ],
   "source": [
    "from collections import Counter\n",
    "str = ('1223334444')\n",
    "dict = Counter(str)\n",
    "print(dict)\n",
    "print(dict.most_common())"
   ]
  },
  {
   "cell_type": "code",
   "execution_count": 20,
   "metadata": {},
   "outputs": [
    {
     "name": "stdout",
     "output_type": "stream",
     "text": [
      "Counter({'1': 1, '22': 1, '333': 1, '4444': 1})\n",
      "[('1', 1), ('22', 1), ('333', 1), ('4444', 1)]\n"
     ]
    }
   ],
   "source": [
    "from collections import Counter\n",
    "str = ('1','22','333','4444')\n",
    "dict = Counter(str)\n",
    "print(dict)\n",
    "print(dict.most_common())"
   ]
  },
  {
   "cell_type": "code",
   "execution_count": 2,
   "metadata": {},
   "outputs": [
    {
     "name": "stdout",
     "output_type": "stream",
     "text": [
      "Methionine\n",
      "Methionine\n"
     ]
    }
   ],
   "source": [
    "genetic_code = {\n",
    "    'AUG': 'Methionine', 'UUU': 'Phenylalanine', 'UUC': 'Phenylalanine',\n",
    "    'UUA': 'Leucine', 'UUG': 'Leucine', 'CUU': 'Leucine', 'CUC': 'Leucine',\n",
    "    'CUA': 'Leucine', 'CUG': 'Leucine', 'AUU': 'Isoleucine', 'AUC': 'Isoleucine',\n",
    "    'AUA': 'Isoleucine', 'GUU': 'Valine', 'GUC': 'Valine', 'GUA': 'Valine',\n",
    "    'GUG': 'Valine', 'UCU': 'Serine', 'UCC': 'Serine', 'UCA': 'Serine',\n",
    "    'UCG': 'Serine', 'CCU': 'Proline', 'CCC': 'Proline', 'CCA': 'Proline',\n",
    "    'CCG': 'Proline', 'ACU': 'Threonine', 'ACC': 'Threonine', 'ACA': 'Threonine',\n",
    "    'ACG': 'Threonine', 'GCU': 'Alanine', 'GCC': 'Alanine', 'GCA': 'Alanine',\n",
    "    'GCG': 'Alanine', 'UAU': 'Tyrosine', 'UAC': 'Tyrosine', 'CAU': 'Histidine',\n",
    "    'CAC': 'Histidine', 'CAA': 'Glutamine', 'CAG': 'Glutamine', 'AAU': 'Asparagine',\n",
    "    'AAC': 'Asparagine', 'AAA': 'Lysine', 'AAG': 'Lysine', 'GAU': 'Aspartic Acid',\n",
    "    'GAC': 'Aspartic Acid', 'GAA': 'Glutamic Acid', 'GAG': 'Glutamic Acid',\n",
    "    'UGU': 'Cysteine', 'UGC': 'Cysteine', 'UGG': 'Tryptophan', 'CGU': 'Arginine',\n",
    "    'CGC': 'Arginine', 'CGA': 'Arginine', 'CGG': 'Arginine', 'AGU': 'Serine',\n",
    "    'AGC': 'Serine', 'AGA': 'Arginine', 'AGG': 'Arginine', 'GGU': 'Glycine',\n",
    "    'GGC': 'Glycine', 'GGA': 'Glycine', 'GGG': 'Glycine', 'UAA': 'Stop',\n",
    "    'UAG': 'Stop', 'UGA': 'Stop'\n",
    "}\n",
    "trinucleotides = 'AUG'\n",
    "amino_acid = genetic_code.get(\"AUG\")\n",
    "amino_acid1 = genetic_code['AUG'] \n",
    "print(amino_acid)\n",
    "print(amino_acid1)"
   ]
  },
  {
   "cell_type": "code",
   "execution_count": null,
   "metadata": {},
   "outputs": [],
   "source": []
  },
  {
   "cell_type": "code",
   "execution_count": null,
   "metadata": {},
   "outputs": [],
   "source": [
    "def most_frequent_trinucleotide(sequence):\n",
    "    stop_codons = [\"UAG\", \"UGA\", \"UAA\"]\n",
    "    trinucleotides = []\n",
    "    for i in range(0, len(sequence) - 2, 3):\n",
    "        codon = sequence[i:i+3]\n",
    "        if codon in stop_codons:\n",
    "            break\n",
    "        trinucleotides.append(codon)\n",
    "    freq = Counter(trinucleotides)\n",
    "    most_common = []\n",
    "    for num in range((len(freq))):\n",
    "        if freq.most_common()[num][1] == freq.most_common(1)[0][1]:\n",
    "            most_common.append(freq.most_common()[num][0])\n",
    "    return ','.join(most_common)\n"
   ]
  }
 ],
 "metadata": {
  "kernelspec": {
   "display_name": "Python 3",
   "language": "python",
   "name": "python3"
  },
  "language_info": {
   "codemirror_mode": {
    "name": "ipython",
    "version": 3
   },
   "file_extension": ".py",
   "mimetype": "text/x-python",
   "name": "python",
   "nbconvert_exporter": "python",
   "pygments_lexer": "ipython3",
   "version": "3.13.2"
  }
 },
 "nbformat": 4,
 "nbformat_minor": 2
}
